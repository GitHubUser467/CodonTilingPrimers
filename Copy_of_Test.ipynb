{
  "nbformat": 4,
  "nbformat_minor": 0,
  "metadata": {
    "colab": {
      "name": "Copy of Test.ipynb",
      "provenance": [],
      "toc_visible": true,
      "authorship_tag": "ABX9TyMt2Li+uxEC1JwHWN9lHdEz",
      "include_colab_link": true
    },
    "kernelspec": {
      "display_name": "Python 3",
      "name": "python3"
    },
    "language_info": {
      "name": "python"
    }
  },
  "cells": [
    {
      "cell_type": "markdown",
      "metadata": {
        "id": "view-in-github",
        "colab_type": "text"
      },
      "source": [
        "<a href=\"https://colab.research.google.com/github/GitHubUser467/CodonTilingPrimers/blob/master/Copy_of_Test.ipynb\" target=\"_parent\"><img src=\"https://colab.research.google.com/assets/colab-badge.svg\" alt=\"Open In Colab\"/></a>"
      ]
    },
    {
      "cell_type": "code",
      "metadata": {
        "colab": {
          "base_uri": "https://localhost:8080/"
        },
        "id": "98xZnlTM70DA",
        "outputId": "6cedc12d-9594-4c87-9931-11cc8cfadcd7"
      },
      "source": [
        "!git clone https://github.com/GitHubUser467/Test.git"
      ],
      "execution_count": 4,
      "outputs": [
        {
          "output_type": "stream",
          "text": [
            "Cloning into 'Test'...\n",
            "fatal: could not read Username for 'https://github.com': No such device or address\n"
          ],
          "name": "stdout"
        }
      ]
    },
    {
      "cell_type": "code",
      "metadata": {
        "colab": {
          "base_uri": "https://localhost:8080/"
        },
        "id": "eQN6TzDW9fNe",
        "outputId": "3a2e104c-154d-47d4-9b94-a449e2cbb11e"
      },
      "source": [
        "!ls"
      ],
      "execution_count": null,
      "outputs": [
        {
          "output_type": "stream",
          "text": [
            "linear.csv  sample_data  Test\n"
          ],
          "name": "stdout"
        }
      ]
    },
    {
      "cell_type": "code",
      "metadata": {
        "colab": {
          "base_uri": "https://localhost:8080/"
        },
        "id": "rGNJ7kzFdHtf",
        "outputId": "947c677f-3cf7-4d73-9c21-c221e67f33a8"
      },
      "source": [
        "import pandas as pd\n",
        "import statsmodels.formula.api as smf\n",
        "import numpy as np\n",
        "import matplotlib.pyplot as plt\n",
        "\n",
        "\n",
        "df = pd.read_csv(\"Test/linear.csv\", header=0, sep=\",\")\n",
        "\n",
        "#full_health_data\n",
        "\n",
        "model = smf.ols('Calorie_Burnage ~ Average_Pulse', data = df)\n",
        "results = model.fit()\n",
        "print(results.summary())"
      ],
      "execution_count": null,
      "outputs": [
        {
          "output_type": "stream",
          "text": [
            "/usr/local/lib/python3.7/dist-packages/statsmodels/tools/_testing.py:19: FutureWarning: pandas.util.testing is deprecated. Use the functions in the public API at pandas.testing instead.\n",
            "  import pandas.util.testing as tm\n"
          ],
          "name": "stderr"
        },
        {
          "output_type": "stream",
          "text": [
            "                            OLS Regression Results                            \n",
            "==============================================================================\n",
            "Dep. Variable:        Calorie_Burnage   R-squared:                       0.000\n",
            "Model:                            OLS   Adj. R-squared:                 -0.006\n",
            "Method:                 Least Squares   F-statistic:                   0.04975\n",
            "Date:                Sat, 15 May 2021   Prob (F-statistic):              0.824\n",
            "Time:                        02:27:41   Log-Likelihood:                -1145.8\n",
            "No. Observations:                 163   AIC:                             2296.\n",
            "Df Residuals:                     161   BIC:                             2302.\n",
            "Df Model:                           1                                         \n",
            "Covariance Type:            nonrobust                                         \n",
            "=================================================================================\n",
            "                    coef    std err          t      P>|t|      [0.025      0.975]\n",
            "---------------------------------------------------------------------------------\n",
            "Intercept       346.8662    160.615      2.160      0.032      29.682     664.050\n",
            "Average_Pulse     0.3296      1.478      0.223      0.824      -2.588       3.247\n",
            "==============================================================================\n",
            "Omnibus:                      124.542   Durbin-Watson:                   1.620\n",
            "Prob(Omnibus):                  0.000   Jarque-Bera (JB):              938.541\n",
            "Skew:                           2.927   Prob(JB):                    1.58e-204\n",
            "Kurtosis:                      13.195   Cond. No.                         811.\n",
            "==============================================================================\n",
            "\n",
            "Warnings:\n",
            "[1] Standard Errors assume that the covariance matrix of the errors is correctly specified.\n"
          ],
          "name": "stdout"
        }
      ]
    },
    {
      "cell_type": "code",
      "metadata": {
        "colab": {
          "base_uri": "https://localhost:8080/"
        },
        "id": "hU5huLj-wtEN",
        "outputId": "818c25ff-f2b8-449f-d6aa-d8a772c7f1b8"
      },
      "source": [
        "array = df[['Average_Pulse', 'Calorie_Burnage']].to_numpy()\n",
        "x = df.loc[:,'Duration']\n",
        "y = df.loc[:,'Calorie_Burnage']\n",
        "#np.polyfit()\n",
        "info = np.polyfit(x, y, 1)\n",
        "\n",
        "def linemaker(x):\n",
        "  return info[0]*x + info[1]\n",
        "\n",
        "info"
      ],
      "execution_count": null,
      "outputs": [
        {
          "output_type": "execute_result",
          "data": {
            "text/plain": [
              "array([ 5.66417815, 18.36646539])"
            ]
          },
          "metadata": {
            "tags": []
          },
          "execution_count": 62
        }
      ]
    },
    {
      "cell_type": "code",
      "metadata": {
        "colab": {
          "base_uri": "https://localhost:8080/",
          "height": 282
        },
        "id": "B88PzfOzrcT9",
        "outputId": "f24f7ce1-8716-496d-d75f-b2c2de9f409a"
      },
      "source": [
        "plt.scatter(x, y)\n",
        "plt.plot(x, list(map(linemaker, x)))"
      ],
      "execution_count": null,
      "outputs": [
        {
          "output_type": "execute_result",
          "data": {
            "text/plain": [
              "[<matplotlib.lines.Line2D at 0x7fc9e8560fd0>]"
            ]
          },
          "metadata": {
            "tags": []
          },
          "execution_count": 63
        },
        {
          "output_type": "display_data",
          "data": {
            "image/png": "[encoded data removed]",
            "text/plain": [
              "<Figure size 432x288 with 1 Axes>"
            ]
          },
          "metadata": {
            "tags": []
          }
        }
      ]
    },
    {
      "cell_type": "code",
      "metadata": {
        "id": "XK0DaGfErBJd"
      },
      "source": [
        "def predictor(x, y)"
      ],
      "execution_count": null,
      "outputs": []
    }
  ]
}